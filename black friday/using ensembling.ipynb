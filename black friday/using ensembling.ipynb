{
 "cells": [
  {
   "cell_type": "code",
   "execution_count": 8,
   "metadata": {},
   "outputs": [],
   "source": [
    "import pandas as pd\n",
    "import numpy as np\n",
    "import matplotlib.pyplot as plt\n",
    "import seaborn as sns\n",
    "import xgboost as xgb\n",
    "from sklearn.metrics import mean_squared_error"
   ]
  },
  {
   "cell_type": "code",
   "execution_count": 2,
   "metadata": {},
   "outputs": [],
   "source": [
    "train=pd.read_csv('train.csv')\n",
    "test=pd.read_csv('test.csv')\n"
   ]
  },
  {
   "cell_type": "code",
   "execution_count": 3,
   "metadata": {},
   "outputs": [],
   "source": [
    "from sklearn.preprocessing import LabelEncoder\n",
    "l_col=['City_Category','Stay_In_Current_City_Years','Gender']\n",
    "for df in test,train:\n",
    "    for col in l_col:\n",
    "        l=LabelEncoder()\n",
    "        train[col]=l.fit_transform(train[col])\n",
    "        test[col]=l.fit_transform(test[col])\n",
    "        \n",
    "#l.classes_"
   ]
  },
  {
   "cell_type": "code",
   "execution_count": 4,
   "metadata": {},
   "outputs": [],
   "source": [
    "age=(\"0-17\",\"18-25\",\"26-35\",\"36-45\",\"46-50\",\"51-55\",\"55+\")\n",
    "for df in train,test:\n",
    "    for key,value in zip(age,(15,21,30,40,48,53,60)):\n",
    "             df.loc[df['Age']==key,'Age']=int(value)\n",
    "    \n",
    "    df['Age']=df.Age.astype(int)\n",
    "\n",
    " "
   ]
  },
  {
   "cell_type": "code",
   "execution_count": 6,
   "metadata": {},
   "outputs": [
    {
     "data": {
      "text/plain": [
       "array([ 15176.84960938,   9943.48632812,   7766.65771484, ...,\n",
       "        12530.96484375,  19063.12695312,   2910.20166016], dtype=float32)"
      ]
     },
     "execution_count": 6,
     "metadata": {},
     "output_type": "execute_result"
    }
   ],
   "source": [
    "params = {}\n",
    "params[\"objective\"] = \"reg:linear\"\n",
    "params[\"eta\"] = 0.03\n",
    "params[\"gamma\"] = 0.2\n",
    "params[\"reg_alpha\"] = 0.64\n",
    "params[\"min_child_weight\"] = 22\n",
    "params[\"subsample\"] = 0.85\n",
    "params[\"colsample_bytree\"] = 0.55\n",
    "params[\"colsample_bylevel\"] = 0.64\n",
    "params[\"silent\"] = 1\n",
    "params[\"max_depth\"] = 12\n",
    "#params[\"max_delta_step\"]=2\n",
    "params[\"seed\"] = 0\n",
    "#params['eval_metric'] = \"auc\"\n",
    "plst = list(params.items())\n",
    "\n",
    "num_rounds = 1100\n",
    "xgtrain = xgb.DMatrix(train.drop(['Purchase','Product_ID'],axis=1),train['Purchase'])\n",
    "xgtest = xgb.DMatrix(test.drop(['Product_ID'],axis=1))\n",
    "model = xgb.train(plst, xgtrain, num_rounds)\n",
    "pred_test_y = model.predict(xgtest)\n",
    "pred_train_y = model.predict(xgtrain)\n",
    "pred_test_y\n"
   ]
  },
  {
   "cell_type": "code",
   "execution_count": 7,
   "metadata": {},
   "outputs": [
    {
     "data": {
      "text/plain": [
       "array([ 15144.77050781,  10117.95214844,   7373.06445312, ...,\n",
       "        12271.875     ,  19553.66210938,   2388.20385742], dtype=float32)"
      ]
     },
     "execution_count": 7,
     "metadata": {},
     "output_type": "execute_result"
    }
   ],
   "source": [
    "params = {}\n",
    "params[\"objective\"] = \"reg:linear\"\n",
    "params[\"eta\"] = 0.03\n",
    "params[\"gamma\"] = 0.2\n",
    "params[\"reg_alpha\"] = 0.64\n",
    "params[\"min_child_weight\"] = 15\n",
    "params[\"subsample\"] = 0.85\n",
    "params[\"colsample_bytree\"] = 0.55\n",
    "params[\"colsample_bylevel\"] = 0.64\n",
    "params[\"silent\"] = 1\n",
    "params[\"max_depth\"] =8\n",
    "#params[\"max_delta_step\"]=2\n",
    "params[\"seed\"] = 0\n",
    "#params['eval_metric'] = \"auc\"\n",
    "plst = list(params.items())\n",
    "\n",
    "num_rounds = 1100\n",
    "xgtrain = xgb.DMatrix(train.drop(['Purchase','Product_ID'],axis=1),train['Purchase'])\n",
    "xgtest = xgb.DMatrix(test.drop(['Product_ID'],axis=1))\n",
    "model2 = xgb.train(plst, xgtrain, num_rounds)\n",
    "pred2_test_y = model2.predict(xgtest)\n",
    "pred2_train_y = model2.predict(xgtrain)\n",
    "pred2_test_y\n"
   ]
  },
  {
   "cell_type": "code",
   "execution_count": 16,
   "metadata": {},
   "outputs": [
    {
     "data": {
      "text/plain": [
       "7451815.2603250593"
      ]
     },
     "execution_count": 16,
     "metadata": {},
     "output_type": "execute_result"
    }
   ],
   "source": [
    "mean_squared_error(pred2_train_y,pred_train_y)\n",
    "mean_squared_error(pred2_train_y,train['Purchase'])"
   ]
  },
  {
   "cell_type": "code",
   "execution_count": null,
   "metadata": {},
   "outputs": [],
   "source": []
  }
 ],
 "metadata": {
  "kernelspec": {
   "display_name": "Python 3",
   "language": "python",
   "name": "python3"
  },
  "language_info": {
   "codemirror_mode": {
    "name": "ipython",
    "version": 3
   },
   "file_extension": ".py",
   "mimetype": "text/x-python",
   "name": "python",
   "nbconvert_exporter": "python",
   "pygments_lexer": "ipython3",
   "version": "3.4.3"
  }
 },
 "nbformat": 4,
 "nbformat_minor": 2
}
